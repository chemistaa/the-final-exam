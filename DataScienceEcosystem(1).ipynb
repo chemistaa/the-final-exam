{
 "cells": [
  {
   "cell_type": "markdown",
   "id": "20b5b8b1-1952-4eb6-b03f-f2a524f99a05",
   "metadata": {},
   "source": [
    "**Data Science Tools and Ecosystem**"
   ]
  },
  {
   "cell_type": "markdown",
   "id": "989f191b-030f-4168-9d88-101e412ecbb9",
   "metadata": {},
   "source": [
    "In this notebook, Data Science Tools and Ecosystem are summarized."
   ]
  },
  {
   "cell_type": "markdown",
   "id": "69efda99-8d46-4f5c-82f7-d97139258e3e",
   "metadata": {},
   "source": [
    "**Objectives:** \n",
    "* List popular languages for Data Science\n",
    "* commonly used libraries used by Data Scientists\n",
    "* Data Science Tools\n"
   ]
  },
  {
   "cell_type": "markdown",
   "id": "e4e507bb-4be4-4bf2-9682-1f7ec2e577a3",
   "metadata": {},
   "source": [
    "Some of the popular languages that Data Scientists use are:\n",
    "1. Python\n",
    "2. R\n",
    "3. SQL\n"
   ]
  },
  {
   "cell_type": "markdown",
   "id": "61590207-1bbc-47e9-bad9-0b0a5696722c",
   "metadata": {},
   "source": [
    "Some of the commonly used libraries used by Data Scientists include:\n",
    "1. NumPy\n",
    "2. Pandas\n",
    "3. Matplotlib"
   ]
  },
  {
   "cell_type": "markdown",
   "id": "c47edb9f-82dc-4538-af21-c539d6c1ea95",
   "metadata": {},
   "source": [
    "|Data Science Tools|\n",
    "|------------------|\n",
    "|Jupyter Notebooks|\n",
    "|RStudio|\n",
    "|Apache Hadoop|"
   ]
  },
  {
   "cell_type": "markdown",
   "id": "abc987e3-c30b-4be4-bae7-73e9c58c57cb",
   "metadata": {},
   "source": [
    "### Below are a few examples of evaluating arithmetic expressions in Python"
   ]
  },
  {
   "cell_type": "code",
   "execution_count": 4,
   "id": "9635cecc-adf2-4c21-b0ba-aa9605b5c0f2",
   "metadata": {},
   "outputs": [
    {
     "data": {
      "text/plain": [
       "17"
      ]
     },
     "execution_count": 4,
     "metadata": {},
     "output_type": "execute_result"
    }
   ],
   "source": [
    "# This a simple arithmetic expression to mutiply then add integers.\n",
    "(3*4)+5 "
   ]
  },
  {
   "cell_type": "code",
   "execution_count": 3,
   "id": "f39b7b45-cd10-4ae1-8451-6f9012d56141",
   "metadata": {},
   "outputs": [
    {
     "data": {
      "text/plain": [
       "3.3333333333333335"
      ]
     },
     "execution_count": 3,
     "metadata": {},
     "output_type": "execute_result"
    }
   ],
   "source": [
    "# This will convert 200 minutes to hours by diving by 60.\n",
    "200/60"
   ]
  },
  {
   "cell_type": "markdown",
   "id": "0f185f5f-8468-42b5-afc3-3d99b03e7522",
   "metadata": {},
   "source": [
    "#  **Author** \n",
    "## **Abdelmeguid Ezzat Aboubaraka**"
   ]
  }
 ],
 "metadata": {
  "kernelspec": {
   "display_name": "Python 3 (ipykernel)",
   "language": "python",
   "name": "python3"
  },
  "language_info": {
   "codemirror_mode": {
    "name": "ipython",
    "version": 3
   },
   "file_extension": ".py",
   "mimetype": "text/x-python",
   "name": "python",
   "nbconvert_exporter": "python",
   "pygments_lexer": "ipython3",
   "version": "3.11.7"
  }
 },
 "nbformat": 4,
 "nbformat_minor": 5
}
